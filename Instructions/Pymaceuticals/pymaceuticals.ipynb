{
 "cells": [
  {
   "cell_type": "markdown",
   "metadata": {},
   "source": [
    "## Observations and Insights"
   ]
  },
  {
   "cell_type": "raw",
   "metadata": {},
   "source": [
    "1. The data includes about same number of female mouse and male mouse.\n",
    "2. This research tested 160 to 200 on most of the drug regimens, except Capomulin and Ramicane were more than 200 trials. Also, Capomulin and Ramicane have lower standard deviation than other regimens, which means the data has less variation. \n",
    "3. The mouse weight and average tumor volume has a correlation of 0.84. It implys the facors have a strong reltionship. The heavier mouse has the larger tumor volume. "
   ]
  },
  {
   "cell_type": "markdown",
   "metadata": {},
   "source": [
    "## Dependencies and starter code"
   ]
  },
  {
   "cell_type": "code",
   "execution_count": 14,
   "metadata": {},
   "outputs": [
    {
     "data": {
      "text/html": [
       "<div>\n",
       "<style scoped>\n",
       "    .dataframe tbody tr th:only-of-type {\n",
       "        vertical-align: middle;\n",
       "    }\n",
       "\n",
       "    .dataframe tbody tr th {\n",
       "        vertical-align: top;\n",
       "    }\n",
       "\n",
       "    .dataframe thead th {\n",
       "        text-align: right;\n",
       "    }\n",
       "</style>\n",
       "<table border=\"1\" class=\"dataframe\">\n",
       "  <thead>\n",
       "    <tr style=\"text-align: right;\">\n",
       "      <th></th>\n",
       "      <th>Mouse ID</th>\n",
       "      <th>Drug Regimen</th>\n",
       "      <th>Sex</th>\n",
       "      <th>Age_months</th>\n",
       "      <th>Weight (g)</th>\n",
       "      <th>Timepoint</th>\n",
       "      <th>Tumor Volume (mm3)</th>\n",
       "      <th>Metastatic Sites</th>\n",
       "    </tr>\n",
       "  </thead>\n",
       "  <tbody>\n",
       "    <tr>\n",
       "      <th>0</th>\n",
       "      <td>k403</td>\n",
       "      <td>Ramicane</td>\n",
       "      <td>Male</td>\n",
       "      <td>21</td>\n",
       "      <td>16</td>\n",
       "      <td>0</td>\n",
       "      <td>45.000000</td>\n",
       "      <td>0</td>\n",
       "    </tr>\n",
       "    <tr>\n",
       "      <th>1</th>\n",
       "      <td>k403</td>\n",
       "      <td>Ramicane</td>\n",
       "      <td>Male</td>\n",
       "      <td>21</td>\n",
       "      <td>16</td>\n",
       "      <td>5</td>\n",
       "      <td>38.825898</td>\n",
       "      <td>0</td>\n",
       "    </tr>\n",
       "    <tr>\n",
       "      <th>2</th>\n",
       "      <td>k403</td>\n",
       "      <td>Ramicane</td>\n",
       "      <td>Male</td>\n",
       "      <td>21</td>\n",
       "      <td>16</td>\n",
       "      <td>10</td>\n",
       "      <td>35.014271</td>\n",
       "      <td>1</td>\n",
       "    </tr>\n",
       "    <tr>\n",
       "      <th>3</th>\n",
       "      <td>k403</td>\n",
       "      <td>Ramicane</td>\n",
       "      <td>Male</td>\n",
       "      <td>21</td>\n",
       "      <td>16</td>\n",
       "      <td>15</td>\n",
       "      <td>34.223992</td>\n",
       "      <td>1</td>\n",
       "    </tr>\n",
       "    <tr>\n",
       "      <th>4</th>\n",
       "      <td>k403</td>\n",
       "      <td>Ramicane</td>\n",
       "      <td>Male</td>\n",
       "      <td>21</td>\n",
       "      <td>16</td>\n",
       "      <td>20</td>\n",
       "      <td>32.997729</td>\n",
       "      <td>1</td>\n",
       "    </tr>\n",
       "    <tr>\n",
       "      <th>5</th>\n",
       "      <td>k403</td>\n",
       "      <td>Ramicane</td>\n",
       "      <td>Male</td>\n",
       "      <td>21</td>\n",
       "      <td>16</td>\n",
       "      <td>25</td>\n",
       "      <td>33.464577</td>\n",
       "      <td>1</td>\n",
       "    </tr>\n",
       "    <tr>\n",
       "      <th>6</th>\n",
       "      <td>k403</td>\n",
       "      <td>Ramicane</td>\n",
       "      <td>Male</td>\n",
       "      <td>21</td>\n",
       "      <td>16</td>\n",
       "      <td>30</td>\n",
       "      <td>31.099498</td>\n",
       "      <td>1</td>\n",
       "    </tr>\n",
       "    <tr>\n",
       "      <th>7</th>\n",
       "      <td>k403</td>\n",
       "      <td>Ramicane</td>\n",
       "      <td>Male</td>\n",
       "      <td>21</td>\n",
       "      <td>16</td>\n",
       "      <td>35</td>\n",
       "      <td>26.546993</td>\n",
       "      <td>1</td>\n",
       "    </tr>\n",
       "    <tr>\n",
       "      <th>8</th>\n",
       "      <td>k403</td>\n",
       "      <td>Ramicane</td>\n",
       "      <td>Male</td>\n",
       "      <td>21</td>\n",
       "      <td>16</td>\n",
       "      <td>40</td>\n",
       "      <td>24.365505</td>\n",
       "      <td>1</td>\n",
       "    </tr>\n",
       "    <tr>\n",
       "      <th>9</th>\n",
       "      <td>k403</td>\n",
       "      <td>Ramicane</td>\n",
       "      <td>Male</td>\n",
       "      <td>21</td>\n",
       "      <td>16</td>\n",
       "      <td>45</td>\n",
       "      <td>22.050126</td>\n",
       "      <td>1</td>\n",
       "    </tr>\n",
       "    <tr>\n",
       "      <th>10</th>\n",
       "      <td>s185</td>\n",
       "      <td>Capomulin</td>\n",
       "      <td>Female</td>\n",
       "      <td>3</td>\n",
       "      <td>17</td>\n",
       "      <td>0</td>\n",
       "      <td>45.000000</td>\n",
       "      <td>0</td>\n",
       "    </tr>\n",
       "    <tr>\n",
       "      <th>11</th>\n",
       "      <td>s185</td>\n",
       "      <td>Capomulin</td>\n",
       "      <td>Female</td>\n",
       "      <td>3</td>\n",
       "      <td>17</td>\n",
       "      <td>5</td>\n",
       "      <td>43.878496</td>\n",
       "      <td>0</td>\n",
       "    </tr>\n",
       "    <tr>\n",
       "      <th>12</th>\n",
       "      <td>s185</td>\n",
       "      <td>Capomulin</td>\n",
       "      <td>Female</td>\n",
       "      <td>3</td>\n",
       "      <td>17</td>\n",
       "      <td>10</td>\n",
       "      <td>37.614948</td>\n",
       "      <td>0</td>\n",
       "    </tr>\n",
       "    <tr>\n",
       "      <th>13</th>\n",
       "      <td>s185</td>\n",
       "      <td>Capomulin</td>\n",
       "      <td>Female</td>\n",
       "      <td>3</td>\n",
       "      <td>17</td>\n",
       "      <td>15</td>\n",
       "      <td>38.177232</td>\n",
       "      <td>0</td>\n",
       "    </tr>\n",
       "    <tr>\n",
       "      <th>14</th>\n",
       "      <td>s185</td>\n",
       "      <td>Capomulin</td>\n",
       "      <td>Female</td>\n",
       "      <td>3</td>\n",
       "      <td>17</td>\n",
       "      <td>20</td>\n",
       "      <td>36.866876</td>\n",
       "      <td>0</td>\n",
       "    </tr>\n",
       "    <tr>\n",
       "      <th>15</th>\n",
       "      <td>s185</td>\n",
       "      <td>Capomulin</td>\n",
       "      <td>Female</td>\n",
       "      <td>3</td>\n",
       "      <td>17</td>\n",
       "      <td>25</td>\n",
       "      <td>33.949940</td>\n",
       "      <td>0</td>\n",
       "    </tr>\n",
       "    <tr>\n",
       "      <th>16</th>\n",
       "      <td>s185</td>\n",
       "      <td>Capomulin</td>\n",
       "      <td>Female</td>\n",
       "      <td>3</td>\n",
       "      <td>17</td>\n",
       "      <td>30</td>\n",
       "      <td>32.959671</td>\n",
       "      <td>1</td>\n",
       "    </tr>\n",
       "    <tr>\n",
       "      <th>17</th>\n",
       "      <td>s185</td>\n",
       "      <td>Capomulin</td>\n",
       "      <td>Female</td>\n",
       "      <td>3</td>\n",
       "      <td>17</td>\n",
       "      <td>35</td>\n",
       "      <td>28.328531</td>\n",
       "      <td>1</td>\n",
       "    </tr>\n",
       "    <tr>\n",
       "      <th>18</th>\n",
       "      <td>s185</td>\n",
       "      <td>Capomulin</td>\n",
       "      <td>Female</td>\n",
       "      <td>3</td>\n",
       "      <td>17</td>\n",
       "      <td>40</td>\n",
       "      <td>25.472143</td>\n",
       "      <td>1</td>\n",
       "    </tr>\n",
       "    <tr>\n",
       "      <th>19</th>\n",
       "      <td>s185</td>\n",
       "      <td>Capomulin</td>\n",
       "      <td>Female</td>\n",
       "      <td>3</td>\n",
       "      <td>17</td>\n",
       "      <td>45</td>\n",
       "      <td>23.343598</td>\n",
       "      <td>1</td>\n",
       "    </tr>\n",
       "  </tbody>\n",
       "</table>\n",
       "</div>"
      ],
      "text/plain": [
       "   Mouse ID Drug Regimen     Sex  Age_months  Weight (g)  Timepoint  \\\n",
       "0      k403     Ramicane    Male          21          16          0   \n",
       "1      k403     Ramicane    Male          21          16          5   \n",
       "2      k403     Ramicane    Male          21          16         10   \n",
       "3      k403     Ramicane    Male          21          16         15   \n",
       "4      k403     Ramicane    Male          21          16         20   \n",
       "5      k403     Ramicane    Male          21          16         25   \n",
       "6      k403     Ramicane    Male          21          16         30   \n",
       "7      k403     Ramicane    Male          21          16         35   \n",
       "8      k403     Ramicane    Male          21          16         40   \n",
       "9      k403     Ramicane    Male          21          16         45   \n",
       "10     s185    Capomulin  Female           3          17          0   \n",
       "11     s185    Capomulin  Female           3          17          5   \n",
       "12     s185    Capomulin  Female           3          17         10   \n",
       "13     s185    Capomulin  Female           3          17         15   \n",
       "14     s185    Capomulin  Female           3          17         20   \n",
       "15     s185    Capomulin  Female           3          17         25   \n",
       "16     s185    Capomulin  Female           3          17         30   \n",
       "17     s185    Capomulin  Female           3          17         35   \n",
       "18     s185    Capomulin  Female           3          17         40   \n",
       "19     s185    Capomulin  Female           3          17         45   \n",
       "\n",
       "    Tumor Volume (mm3)  Metastatic Sites  \n",
       "0            45.000000                 0  \n",
       "1            38.825898                 0  \n",
       "2            35.014271                 1  \n",
       "3            34.223992                 1  \n",
       "4            32.997729                 1  \n",
       "5            33.464577                 1  \n",
       "6            31.099498                 1  \n",
       "7            26.546993                 1  \n",
       "8            24.365505                 1  \n",
       "9            22.050126                 1  \n",
       "10           45.000000                 0  \n",
       "11           43.878496                 0  \n",
       "12           37.614948                 0  \n",
       "13           38.177232                 0  \n",
       "14           36.866876                 0  \n",
       "15           33.949940                 0  \n",
       "16           32.959671                 1  \n",
       "17           28.328531                 1  \n",
       "18           25.472143                 1  \n",
       "19           23.343598                 1  "
      ]
     },
     "execution_count": 14,
     "metadata": {},
     "output_type": "execute_result"
    }
   ],
   "source": [
    "# Dependencies and Setup\n",
    "import matplotlib.pyplot as plt\n",
    "import pandas as pd\n",
    "import scipy.stats as st\n",
    "\n",
    "# Study data files\n",
    "mouse_metadata = \"data/Mouse_metadata.csv\"\n",
    "study_results = \"data/Study_results.csv\"\n",
    "\n",
    "# Read the mouse data and the study results\n",
    "mouse_metadata = pd.read_csv(mouse_metadata)\n",
    "study_results = pd.read_csv(study_results)\n",
    "\n",
    "# Combine the data into a single dataset\n",
    "combine=pd.merge(mouse_metadata,study_results,how=\"outer\",on='Mouse ID')\n",
    "combine.head(20)"
   ]
  },
  {
   "cell_type": "markdown",
   "metadata": {},
   "source": [
    "## Summary statistics"
   ]
  },
  {
   "cell_type": "code",
   "execution_count": 2,
   "metadata": {},
   "outputs": [
    {
     "data": {
      "text/html": [
       "<div>\n",
       "<style scoped>\n",
       "    .dataframe tbody tr th:only-of-type {\n",
       "        vertical-align: middle;\n",
       "    }\n",
       "\n",
       "    .dataframe tbody tr th {\n",
       "        vertical-align: top;\n",
       "    }\n",
       "\n",
       "    .dataframe thead th {\n",
       "        text-align: right;\n",
       "    }\n",
       "</style>\n",
       "<table border=\"1\" class=\"dataframe\">\n",
       "  <thead>\n",
       "    <tr style=\"text-align: right;\">\n",
       "      <th></th>\n",
       "      <th>Trials</th>\n",
       "      <th>Mean</th>\n",
       "      <th>Median</th>\n",
       "      <th>Variance</th>\n",
       "      <th>Standard Deviation</th>\n",
       "      <th>Standard Error of the Mean</th>\n",
       "    </tr>\n",
       "    <tr>\n",
       "      <th>Drug Regimen</th>\n",
       "      <th></th>\n",
       "      <th></th>\n",
       "      <th></th>\n",
       "      <th></th>\n",
       "      <th></th>\n",
       "      <th></th>\n",
       "    </tr>\n",
       "  </thead>\n",
       "  <tbody>\n",
       "    <tr>\n",
       "      <th>Capomulin</th>\n",
       "      <td>230</td>\n",
       "      <td>40.675741</td>\n",
       "      <td>41.557809</td>\n",
       "      <td>24.947764</td>\n",
       "      <td>4.994774</td>\n",
       "      <td>0.329346</td>\n",
       "    </tr>\n",
       "    <tr>\n",
       "      <th>Ceftamin</th>\n",
       "      <td>178</td>\n",
       "      <td>52.591172</td>\n",
       "      <td>51.776157</td>\n",
       "      <td>39.290177</td>\n",
       "      <td>6.268188</td>\n",
       "      <td>0.469821</td>\n",
       "    </tr>\n",
       "    <tr>\n",
       "      <th>Infubinol</th>\n",
       "      <td>178</td>\n",
       "      <td>52.884795</td>\n",
       "      <td>51.820584</td>\n",
       "      <td>43.128684</td>\n",
       "      <td>6.567243</td>\n",
       "      <td>0.492236</td>\n",
       "    </tr>\n",
       "    <tr>\n",
       "      <th>Ketapril</th>\n",
       "      <td>188</td>\n",
       "      <td>55.235638</td>\n",
       "      <td>53.698743</td>\n",
       "      <td>68.553577</td>\n",
       "      <td>8.279709</td>\n",
       "      <td>0.603860</td>\n",
       "    </tr>\n",
       "    <tr>\n",
       "      <th>Naftisol</th>\n",
       "      <td>186</td>\n",
       "      <td>54.331565</td>\n",
       "      <td>52.509285</td>\n",
       "      <td>66.173479</td>\n",
       "      <td>8.134708</td>\n",
       "      <td>0.596466</td>\n",
       "    </tr>\n",
       "    <tr>\n",
       "      <th>Placebo</th>\n",
       "      <td>181</td>\n",
       "      <td>54.033581</td>\n",
       "      <td>52.288934</td>\n",
       "      <td>61.168083</td>\n",
       "      <td>7.821003</td>\n",
       "      <td>0.581331</td>\n",
       "    </tr>\n",
       "    <tr>\n",
       "      <th>Propriva</th>\n",
       "      <td>161</td>\n",
       "      <td>52.322552</td>\n",
       "      <td>50.854632</td>\n",
       "      <td>42.351070</td>\n",
       "      <td>6.507770</td>\n",
       "      <td>0.512884</td>\n",
       "    </tr>\n",
       "    <tr>\n",
       "      <th>Ramicane</th>\n",
       "      <td>228</td>\n",
       "      <td>40.216745</td>\n",
       "      <td>40.673236</td>\n",
       "      <td>23.486704</td>\n",
       "      <td>4.846308</td>\n",
       "      <td>0.320955</td>\n",
       "    </tr>\n",
       "    <tr>\n",
       "      <th>Stelasyn</th>\n",
       "      <td>181</td>\n",
       "      <td>54.233149</td>\n",
       "      <td>52.431737</td>\n",
       "      <td>59.450562</td>\n",
       "      <td>7.710419</td>\n",
       "      <td>0.573111</td>\n",
       "    </tr>\n",
       "    <tr>\n",
       "      <th>Zoniferol</th>\n",
       "      <td>182</td>\n",
       "      <td>53.236507</td>\n",
       "      <td>51.818479</td>\n",
       "      <td>48.533355</td>\n",
       "      <td>6.966589</td>\n",
       "      <td>0.516398</td>\n",
       "    </tr>\n",
       "  </tbody>\n",
       "</table>\n",
       "</div>"
      ],
      "text/plain": [
       "              Trials       Mean     Median   Variance  Standard Deviation  \\\n",
       "Drug Regimen                                                                \n",
       "Capomulin        230  40.675741  41.557809  24.947764            4.994774   \n",
       "Ceftamin         178  52.591172  51.776157  39.290177            6.268188   \n",
       "Infubinol        178  52.884795  51.820584  43.128684            6.567243   \n",
       "Ketapril         188  55.235638  53.698743  68.553577            8.279709   \n",
       "Naftisol         186  54.331565  52.509285  66.173479            8.134708   \n",
       "Placebo          181  54.033581  52.288934  61.168083            7.821003   \n",
       "Propriva         161  52.322552  50.854632  42.351070            6.507770   \n",
       "Ramicane         228  40.216745  40.673236  23.486704            4.846308   \n",
       "Stelasyn         181  54.233149  52.431737  59.450562            7.710419   \n",
       "Zoniferol        182  53.236507  51.818479  48.533355            6.966589   \n",
       "\n",
       "              Standard Error of the Mean  \n",
       "Drug Regimen                              \n",
       "Capomulin                       0.329346  \n",
       "Ceftamin                        0.469821  \n",
       "Infubinol                       0.492236  \n",
       "Ketapril                        0.603860  \n",
       "Naftisol                        0.596466  \n",
       "Placebo                         0.581331  \n",
       "Propriva                        0.512884  \n",
       "Ramicane                        0.320955  \n",
       "Stelasyn                        0.573111  \n",
       "Zoniferol                       0.516398  "
      ]
     },
     "execution_count": 2,
     "metadata": {},
     "output_type": "execute_result"
    }
   ],
   "source": [
    "# Generate a summary statistics table of mean, median, variance, standard deviation, \n",
    "#and SEM of the tumor volume for each regimen\n",
    "\n",
    "# Put all the drug regimens in to categories\n",
    "regimen=combine.groupby(\"Drug Regimen\")\n",
    "new_times=regimen[\"Tumor Volume (mm3)\"].count()\n",
    "new_mean=regimen[\"Tumor Volume (mm3)\"].mean()\n",
    "new_median=regimen[\"Tumor Volume (mm3)\"].median()\n",
    "new_var=regimen[\"Tumor Volume (mm3)\"].var()\n",
    "new_sd=regimen[\"Tumor Volume (mm3)\"].std()\n",
    "new_sem=regimen[\"Tumor Volume (mm3)\"].sem()\n",
    "summary_table=pd.DataFrame({\n",
    "                \"Trials\":new_times,\n",
    "                \"Mean\":new_mean,\n",
    "                \"Median\":new_median,\n",
    "                \"Variance\":new_var,\n",
    "                \"Standard Deviation\":new_sd,\n",
    "                \"Standard Error of the Mean\":new_sem\n",
    "})\n",
    "summary_table"
   ]
  },
  {
   "cell_type": "markdown",
   "metadata": {},
   "source": [
    "## Bar plots"
   ]
  },
  {
   "cell_type": "code",
   "execution_count": 3,
   "metadata": {},
   "outputs": [
    {
     "data": {
      "image/png": "[encoded data removed]",
      "text/plain": [
       "<Figure size 432x288 with 1 Axes>"
      ]
     },
     "metadata": {
      "needs_background": "light"
     },
     "output_type": "display_data"
    }
   ],
   "source": [
    "# Generate a bar plot showing number of data points for each treatment regimen using pandas\n",
    "import numpy as np\n",
    "Times=summary_table[\"Trials\"]\n",
    "x_axis=np.arange(len(Times))\n",
    "Regimen_names=combine['Drug Regimen'].unique()\n",
    "df=pd.DataFrame({\"x\":x_axis,\"Times\":Times,\"Drug Regimen\":Regimen_names})\n",
    "fig, ax = plt.subplots() \n",
    "df.plot.bar(x=\"Drug Regimen\",y=\"Times\",ax=ax,legend=False,color=\"grey\")\n",
    "ax.set(ylabel=\"Trials\",title=\"Numbers of Trials on each Drug Regimen\")\n",
    "fig.tight_layout()\n"
   ]
  },
  {
   "cell_type": "code",
   "execution_count": 4,
   "metadata": {},
   "outputs": [
    {
     "data": {
      "text/plain": [
       "(-0.75, 9.5)"
      ]
     },
     "execution_count": 4,
     "metadata": {},
     "output_type": "execute_result"
    },
    {
     "data": {
      "image/png": "[encoded data removed]",
      "text/plain": [
       "<Figure size 432x288 with 1 Axes>"
      ]
     },
     "metadata": {
      "needs_background": "light"
     },
     "output_type": "display_data"
    }
   ],
   "source": [
    "# Generate a bar plot showing number of data points for each treatment regimen using pyplot\n",
    "plt.bar(Regimen_names,Times,align='center',color='grey',width=0.5)\n",
    "plt.xticks(rotation='vertical')\n",
    "plt.xlabel(\"Drug Regimen\")\n",
    "plt.ylabel(\"Trials\")\n",
    "plt.title('Numbers of Trials on each Drug Regimen')\n",
    "plt.xlim(-0.75, len(x_axis)-0.5)"
   ]
  },
  {
   "cell_type": "markdown",
   "metadata": {},
   "source": [
    "## Pie plots"
   ]
  },
  {
   "cell_type": "code",
   "execution_count": 5,
   "metadata": {},
   "outputs": [
    {
     "data": {
      "text/plain": [
       "[Text(0, 0.5, ''),\n",
       " Text(0.5, 1.0, 'The distribution of female versus male mice')]"
      ]
     },
     "execution_count": 5,
     "metadata": {},
     "output_type": "execute_result"
    },
    {
     "data": {
      "image/png": "[encoded data removed]",
      "text/plain": [
       "<Figure size 432x288 with 1 Axes>"
      ]
     },
     "metadata": {},
     "output_type": "display_data"
    }
   ],
   "source": [
    "# Generate a pie plot showing the distribution of female versus male mice using pandas\n",
    "label=['Female','Male']\n",
    "Female_count=combine.groupby('Sex').size()[0]\n",
    "male_count=combine.groupby('Sex').size()[1]\n",
    "size=[Female_count,male_count]\n",
    "colors=['pink','lightskyblue']\n",
    "explode = (0.1, 0)\n",
    "\n",
    "df=pd.DataFrame({\n",
    "    \"size\":size,\"labels\":label\n",
    "})\n",
    "fig,ax=plt.subplots()\n",
    "df.plot.pie(y='size',explode=explode, labels=label, colors=colors,\n",
    "        autopct=\"%1.1f%%\",shadow=True, startangle=90,legend=False,ax=ax)\n",
    "ax.set(ylabel='',title='The distribution of female versus male mice')"
   ]
  },
  {
   "cell_type": "code",
   "execution_count": 6,
   "metadata": {},
   "outputs": [
    {
     "data": {
      "text/plain": [
       "Text(0.5, 1.0, 'The distribution of female versus male mice')"
      ]
     },
     "execution_count": 6,
     "metadata": {},
     "output_type": "execute_result"
    },
    {
     "data": {
      "image/png": "[encoded data removed]",
      "text/plain": [
       "<Figure size 432x288 with 1 Axes>"
      ]
     },
     "metadata": {},
     "output_type": "display_data"
    }
   ],
   "source": [
    "# Generate a pie plot showing the distribution of female versus male mice using pyplot\n",
    "\n",
    "plt.pie(size, explode=explode, labels=label, colors=colors,\n",
    "        autopct=\"%1.1f%%\", shadow=True, startangle=90)\n",
    "plt.title('The distribution of female versus male mice')"
   ]
  },
  {
   "cell_type": "markdown",
   "metadata": {},
   "source": [
    "## Quartiles, outliers and boxplots"
   ]
  },
  {
   "cell_type": "code",
   "execution_count": 7,
   "metadata": {},
   "outputs": [
    {
     "name": "stdout",
     "output_type": "stream",
     "text": [
      "The interquartile range of Tumor Volume (mm3) on Capomulin is: 7.314067135000002\n",
      "Values below 27.0 could be outliers.\n",
      "Values above 56.0 could be outliers.\n",
      "The interquartile range of Tumor Volume (mm3) on Capomulin is: 8.325365415000007\n",
      "Values below 24.0 could be outliers.\n",
      "Values above 57.0 could be outliers.\n",
      "The interquartile range of Tumor Volume (mm3) on Capomulin is: 10.002090667500006\n",
      "Values below 32.0 could be outliers.\n",
      "Values above 72.0 could be outliers.\n",
      "The interquartile range of Tumor Volume (mm3) on Capomulin is: 9.5930104575\n",
      "Values below 33.0 could be outliers.\n",
      "Values above 71.0 could be outliers.\n"
     ]
    }
   ],
   "source": [
    "# Calculate the final tumor volume of each mouse across four of the most promising treatment regimens. \n",
    "#Calculate the IQR and quantitatively determine if there are any potential outliers. \n",
    "\n",
    "#separate the four drugs and get the tumor vol\n",
    "promising_regimens_c = combine.loc[combine['Drug Regimen']==\"Capomulin\"]\n",
    "tumor_c=promising_regimens_c[\"Tumor Volume (mm3)\"]\n",
    "promising_regimens_r = combine.loc[combine['Drug Regimen']==\"Ramicane\"]\n",
    "tumor_r=promising_regimens_r[\"Tumor Volume (mm3)\"]\n",
    "promising_regimens_i = combine.loc[combine['Drug Regimen']==\"Infubinol\"]\n",
    "tumor_i=promising_regimens_i[\"Tumor Volume (mm3)\"]\n",
    "promising_regimens_ce = combine.loc[combine['Drug Regimen']==\"Ceftamin\"]\n",
    "tumor_ce=promising_regimens_ce[\"Tumor Volume (mm3)\"]\n",
    "\n",
    "# IQR for Capomulin\n",
    "quartiles = tumor_c.quantile([.25,.5,.75])\n",
    "lowerq = quartiles[0.25]\n",
    "upperq = quartiles[0.75]\n",
    "iqr = upperq-lowerq\n",
    "lower_bound = round(lowerq - (1.5*iqr))\n",
    "upper_bound = round(upperq + (1.5*iqr))\n",
    "lower_cond = tumor_c < lower_bound\n",
    "upper_cond =tumor_c > upper_bound\n",
    "total_outlier=tumor_c[~lower_cond & ~upper_cond].count()\n",
    "print(f\"The interquartile range of Tumor Volume (mm3) on Capomulin is: {iqr}\")\n",
    "print(f\"Values below {lower_bound} could be outliers.\")\n",
    "print(f\"Values above {upper_bound} could be outliers.\")\n",
    "\n",
    "# IQR for Ramicane\n",
    "quartiles = tumor_r.quantile([.25,.5,.75])\n",
    "lowerq = quartiles[0.25]\n",
    "upperq = quartiles[0.75]\n",
    "iqr = upperq-lowerq\n",
    "lower_bound = round(lowerq - (1.5*iqr))\n",
    "upper_bound = round(upperq + (1.5*iqr))\n",
    "lower_cond = tumor_r < lower_bound\n",
    "upper_cond =tumor_r > upper_bound\n",
    "total_outlier=tumor_r[~lower_cond & ~upper_cond].count()\n",
    "print(f\"The interquartile range of Tumor Volume (mm3) on Capomulin is: {iqr}\")\n",
    "print(f\"Values below {lower_bound} could be outliers.\")\n",
    "print(f\"Values above {upper_bound} could be outliers.\")\n",
    "\n",
    "# IQR for Infubinol\n",
    "quartiles = tumor_i.quantile([.25,.5,.75])\n",
    "lowerq = quartiles[0.25]\n",
    "upperq = quartiles[0.75]\n",
    "iqr = upperq-lowerq\n",
    "lower_bound = round(lowerq - (1.5*iqr))\n",
    "upper_bound = round(upperq + (1.5*iqr))\n",
    "lower_cond = tumor_i < lower_bound\n",
    "upper_cond =tumor_i > upper_bound\n",
    "total_outlier=tumor_i[~lower_cond & ~upper_cond].count()\n",
    "print(f\"The interquartile range of Tumor Volume (mm3) on Capomulin is: {iqr}\")\n",
    "print(f\"Values below {lower_bound} could be outliers.\")\n",
    "print(f\"Values above {upper_bound} could be outliers.\")\n",
    "\n",
    "# IQR for Ceftamin\n",
    "quartiles = tumor_ce.quantile([.25,.5,.75])\n",
    "lowerq = quartiles[0.25]\n",
    "upperq = quartiles[0.75]\n",
    "iqr = upperq-lowerq\n",
    "lower_bound = round(lowerq - (1.5*iqr))\n",
    "upper_bound = round(upperq + (1.5*iqr))\n",
    "lower_cond = tumor_ce < lower_bound\n",
    "upper_cond =tumor_ce > upper_bound\n",
    "total_outlier=tumor_ce[~lower_cond & ~upper_cond].count()\n",
    "print(f\"The interquartile range of Tumor Volume (mm3) on Capomulin is: {iqr}\")\n",
    "print(f\"Values below {lower_bound} could be outliers.\")\n",
    "print(f\"Values above {upper_bound} could be outliers.\")"
   ]
  },
  {
   "cell_type": "code",
   "execution_count": 8,
   "metadata": {},
   "outputs": [
    {
     "data": {
      "image/png": "[encoded data removed]",
      "text/plain": [
       "<Figure size 432x288 with 1 Axes>"
      ]
     },
     "metadata": {
      "needs_background": "light"
     },
     "output_type": "display_data"
    }
   ],
   "source": [
    "# Generate a box plot of the final tumor volume of each mouse across four regimens of interest\n",
    "data=[tumor_c,tumor_r,tumor_i,tumor_ce]\n",
    "\n",
    "fig1, ax = plt.subplots()\n",
    "ax.set_title('The final tumor volume of each mouse across four regimens of interest')\n",
    "#To put each regimen's name. It's easier to see which box represent each regimens\n",
    "plt.xticks([1, 2, 3, 4], ['Capomulin', 'Ramicane', 'Infubinol','Ceftamin'], rotation=25)\n",
    "#label for x_axis and y_axis.\n",
    "ax.set_ylabel('Final Tumor Volume')\n",
    "ax.set_xlabel('Regimens')\n",
    "ax.boxplot(data)\n",
    "plt.show()"
   ]
  },
  {
   "cell_type": "markdown",
   "metadata": {},
   "source": [
    "## Line and scatter plots"
   ]
  },
  {
   "cell_type": "code",
   "execution_count": 9,
   "metadata": {},
   "outputs": [
    {
     "data": {
      "text/plain": [
       "(0, 46)"
      ]
     },
     "execution_count": 9,
     "metadata": {},
     "output_type": "execute_result"
    },
    {
     "data": {
      "image/png": "[encoded data removed]",
      "text/plain": [
       "<Figure size 432x288 with 1 Axes>"
      ]
     },
     "metadata": {
      "needs_background": "light"
     },
     "output_type": "display_data"
    }
   ],
   "source": [
    "# Generate a line plot of time point versus tumor volume for a mouse treated with Capomulin\n",
    "time=promising_regimens_c['Timepoint']\n",
    "t_vol=promising_regimens_c['Tumor Volume (mm3)']\n",
    "plt.plot(time,t_vol, color=\"orange\")\n",
    "plt.title(\"All mice treatment with Capomulin\")\n",
    "plt.xlabel('Days')\n",
    "plt.ylabel('Tumor Volume (mm3)')\n",
    "# make the x-axis a litt bit longer. Easier to see the graph. \n",
    "plt.xlim(0,46)\n"
   ]
  },
  {
   "cell_type": "code",
   "execution_count": 10,
   "metadata": {},
   "outputs": [
    {
     "data": {
      "text/plain": [
       "Text(0, 0.5, 'Mouse Weight')"
      ]
     },
     "execution_count": 10,
     "metadata": {},
     "output_type": "execute_result"
    },
    {
     "data": {
      "image/png": "[encoded data removed]",
      "text/plain": [
       "<Figure size 432x288 with 1 Axes>"
      ]
     },
     "metadata": {
      "needs_background": "light"
     },
     "output_type": "display_data"
    }
   ],
   "source": [
    "# Generate a scatter plot of mouse weight versus average tumor volume for the Capomulin regimen\n",
    "fig, ax = plt.subplots() \n",
    "av_tumor=promising_regimens_c.groupby('Mouse ID')['Tumor Volume (mm3)'].mean()\n",
    "mouse_we=promising_regimens_c.groupby('Mouse ID')['Weight (g)'].mean()\n",
    "plt.scatter(av_tumor,mouse_we,marker=\"o\", facecolors=\"green\", edgecolors=\"black\")\n",
    "plt.title('Tumor vol vs. Mouse weight')\n",
    "plt.xlabel(\"Average Tumor Volume\")\n",
    "plt.ylabel(\"Mouse Weight\")"
   ]
  },
  {
   "cell_type": "code",
   "execution_count": 11,
   "metadata": {},
   "outputs": [],
   "source": [
    "# Calculate the correlation coefficient and linear regression model for mouse weight and average tumor volume for the Capomulin regimen"
   ]
  },
  {
   "cell_type": "code",
   "execution_count": 12,
   "metadata": {},
   "outputs": [
    {
     "name": "stdout",
     "output_type": "stream",
     "text": [
      "The correlation between both factors is 0.84\n"
     ]
    }
   ],
   "source": [
    "from scipy.stats import linregress\n",
    "correlation = st.pearsonr(av_tumor,mouse_we)\n",
    "print(f\"The correlation between both factors is {round(correlation[0],2)}\")"
   ]
  },
  {
   "cell_type": "code",
   "execution_count": 13,
   "metadata": {},
   "outputs": [
    {
     "data": {
      "image/png": "[encoded data removed]",
      "text/plain": [
       "<Figure size 432x288 with 1 Axes>"
      ]
     },
     "metadata": {
      "needs_background": "light"
     },
     "output_type": "display_data"
    }
   ],
   "source": [
    "fig, ax = plt.subplots() \n",
    "(slope, intercept, rvalue, pvalue, stderr) = linregress(av_tumor, mouse_we)\n",
    "regress_values = av_tumor * slope + intercept\n",
    "#The equation to put on the graph.\n",
    "line_eq = \"y = \" + str(round(slope,2)) + \"x + \" + str(round(intercept,2))\n",
    "plt.scatter(av_tumor,mouse_we,marker=\"o\", facecolors=\"Green\", edgecolors=\"black\")\n",
    "plt.plot(av_tumor,regress_values,color=\"red\")\n",
    "ax.annotate(line_eq,(39,18),fontsize=15,color=\"red\")\n",
    "plt.xlabel(\"Average Tumor Volume\")\n",
    "plt.ylabel(\"Mouse Weight\")\n",
    "plt.show()\n"
   ]
  },
  {
   "cell_type": "code",
   "execution_count": null,
   "metadata": {},
   "outputs": [],
   "source": []
  }
 ],
 "metadata": {
  "anaconda-cloud": {},
  "kernelspec": {
   "display_name": "Python 3",
   "language": "python",
   "name": "python3"
  },
  "language_info": {
   "codemirror_mode": {
    "name": "ipython",
    "version": 3
   },
   "file_extension": ".py",
   "mimetype": "text/x-python",
   "name": "python",
   "nbconvert_exporter": "python",
   "pygments_lexer": "ipython3",
   "version": "3.6.10"
  }
 },
 "nbformat": 4,
 "nbformat_minor": 2
}
